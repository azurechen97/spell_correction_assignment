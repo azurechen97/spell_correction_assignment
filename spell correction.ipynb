{
 "cells": [
  {
   "cell_type": "code",
   "execution_count": 1,
   "metadata": {},
   "outputs": [],
   "source": [
    "import numpy as np\n",
    "import pandas as pd\n",
    "from pandas import Series, DataFrame\n",
    "import math\n",
    "import nltk\n",
    "from nltk import word_tokenize\n",
    "from nltk.corpus import reuters\n",
    "import pickle"
   ]
  },
  {
   "cell_type": "code",
   "execution_count": 2,
   "metadata": {},
   "outputs": [],
   "source": [
    "with open('vocab.txt') as vocab_file:\n",
    "    lines = vocab_file.readlines()\n",
    "vocab = [line.strip() for line in lines]\n",
    "\n",
    "testdata = pd.read_table('testdata.txt', header=None)\n",
    "n = testdata.shape[0]\n",
    "\n",
    "with open('dataFile','rb') as fr:\n",
    "    un_freq = pickle.load(fr)\n",
    "    bi_freq = pickle.load(fr)"
   ]
  },
  {
   "cell_type": "code",
   "execution_count": 3,
   "metadata": {},
   "outputs": [],
   "source": [
    "V = len(un_freq)\n",
    "\n",
    "letters = \"abcdefghijklmnopqrstuvwxyz\"\n",
    "letters_upper = \"ABCDEFGHIJKLMNOPQRSTUVWXYZ\"\n",
    "other = \" -'\""
   ]
  },
  {
   "cell_type": "code",
   "execution_count": 11,
   "metadata": {},
   "outputs": [],
   "source": [
    "def distance_1(word):\n",
    "    total = set()\n",
    "    for i in range(0,len(word)):\n",
    "        l = word[:i]\n",
    "        r = word[i:]\n",
    "        alphabet = letters\n",
    "        if len(word) > 1 and i > 0:\n",
    "            total.update(set([l[:i-1]+r[0]+l[i-1]+r[1:]])) #Transposition\n",
    "            if i < len(word):\n",
    "                alphabet = letters+other # Punctuation cases\n",
    "        total.update(set([l+c+r for c in alphabet]+[l+r+c for c in alphabet])) #Insertion\n",
    "        total.update(set([l+r[1:]])) #Deletion\n",
    "        total.update(set([l+c+r[1:] for c in alphabet])) #Substitution\n",
    "    return total"
   ]
  },
  {
   "cell_type": "code",
   "execution_count": 16,
   "metadata": {},
   "outputs": [],
   "source": [
    "def generate_candidates(sentence):\n",
    "    candidates = list()\n",
    "    for p,word in enumerate(sentence):\n",
    "        for replace in distance_1(word):\n",
    "            if replace in vocab:\n",
    "                candidate = sentence[:p]+[replace]+sentence[p+1:]\n",
    "                if candidate not in candidates:\n",
    "                    candidates.append(candidate)\n",
    "    return candidates"
   ]
  },
  {
   "cell_type": "code",
   "execution_count": 17,
   "metadata": {},
   "outputs": [
    {
     "data": {
      "text/plain": [
       "[['ax', 'quick', 'brown', 'fox'],\n",
       " ['ah', 'quick', 'brown', 'fox'],\n",
       " ['h', 'quick', 'brown', 'fox'],\n",
       " ['k', 'quick', 'brown', 'fox'],\n",
       " ['al', 'quick', 'brown', 'fox'],\n",
       " ['am', 'quick', 'brown', 'fox'],\n",
       " ['ha', 'quick', 'brown', 'fox'],\n",
       " ['as', 'quick', 'brown', 'fox'],\n",
       " ['a', 'quick', 'brown', 'fox'],\n",
       " ['u', 'quick', 'brown', 'fox'],\n",
       " ['x', 'quick', 'brown', 'fox'],\n",
       " ['at', 'quick', 'brown', 'fox'],\n",
       " ['f', 'quick', 'brown', 'fox'],\n",
       " ['na', 'quick', 'brown', 'fox'],\n",
       " ['l', 'quick', 'brown', 'fox'],\n",
       " ['r', 'quick', 'brown', 'fox'],\n",
       " ['b', 'quick', 'brown', 'fox'],\n",
       " ['g', 'quick', 'brown', 'fox'],\n",
       " ['ca', 'quick', 'brown', 'fox'],\n",
       " ['ab', 'quick', 'brown', 'fox'],\n",
       " ['ad', 'quick', 'brown', 'fox'],\n",
       " ['p', 'quick', 'brown', 'fox'],\n",
       " ['pa', 'quick', 'brown', 'fox'],\n",
       " ['e', 'quick', 'brown', 'fox'],\n",
       " ['n', 'quick', 'brown', 'fox'],\n",
       " ['w', 'quick', 'brown', 'fox'],\n",
       " ['ya', 'quick', 'brown', 'fox'],\n",
       " ['la', 'quick', 'brown', 'fox'],\n",
       " ['ta', 'quick', 'brown', 'fox'],\n",
       " ['an', 'quick', 'brown', 'fox'],\n",
       " ['a', 'quirk', 'brown', 'fox'],\n",
       " ['a', 'quack', 'brown', 'fox'],\n",
       " ['a', 'quick', 'brows', 'fox'],\n",
       " ['a', 'quick', 'frown', 'fox'],\n",
       " ['a', 'quick', 'crown', 'fox'],\n",
       " ['a', 'quick', 'drown', 'fox'],\n",
       " ['a', 'quick', 'brow', 'fox'],\n",
       " ['a', 'quick', 'browny', 'fox'],\n",
       " ['a', 'quick', 'blown', 'fox'],\n",
       " ['a', 'quick', 'grown', 'fox'],\n",
       " ['a', 'quick', 'brown', 'ox'],\n",
       " ['a', 'quick', 'brown', 'fog'],\n",
       " ['a', 'quick', 'brown', 'box'],\n",
       " ['a', 'quick', 'brown', 'for'],\n",
       " ['a', 'quick', 'brown', 'foe'],\n",
       " ['a', 'quick', 'brown', 'foh'],\n",
       " ['a', 'quick', 'brown', 'fix']]"
      ]
     },
     "execution_count": 17,
     "metadata": {},
     "output_type": "execute_result"
    }
   ],
   "source": [
    "generate_candidates(word_tokenize(\"a quick brown fox\"))"
   ]
  },
  {
   "cell_type": "code",
   "execution_count": 19,
   "metadata": {},
   "outputs": [],
   "source": [
    "N = len(reuters.words())"
   ]
  },
  {
   "cell_type": "code",
   "execution_count": 20,
   "metadata": {},
   "outputs": [
    {
     "data": {
      "text/plain": [
       "1720901"
      ]
     },
     "execution_count": 20,
     "metadata": {},
     "output_type": "execute_result"
    }
   ],
   "source": [
    "N"
   ]
  },
  {
   "cell_type": "code",
   "execution_count": 21,
   "metadata": {},
   "outputs": [],
   "source": [
    "reuters_list = reuters.words()"
   ]
  },
  {
   "cell_type": "code",
   "execution_count": 22,
   "metadata": {},
   "outputs": [],
   "source": [
    "N= len(reuters_list)"
   ]
  },
  {
   "cell_type": "code",
   "execution_count": 23,
   "metadata": {},
   "outputs": [],
   "source": [
    "with open('dataFile','rb') as fr:\n",
    "    un_freq = pickle.load(fr)\n",
    "    bi_freq = pickle.load(fr)\n",
    "    V = pickle.load(fr)\n",
    "    N = pickle.load(fr)"
   ]
  },
  {
   "cell_type": "code",
   "execution_count": 24,
   "metadata": {},
   "outputs": [
    {
     "data": {
      "text/plain": [
       "1720901"
      ]
     },
     "execution_count": 24,
     "metadata": {},
     "output_type": "execute_result"
    }
   ],
   "source": [
    "N"
   ]
  },
  {
   "cell_type": "code",
   "execution_count": 25,
   "metadata": {},
   "outputs": [
    {
     "data": {
      "text/plain": [
       "41600"
      ]
     },
     "execution_count": 25,
     "metadata": {},
     "output_type": "execute_result"
    }
   ],
   "source": [
    "V"
   ]
  },
  {
   "cell_type": "code",
   "execution_count": 26,
   "metadata": {},
   "outputs": [],
   "source": [
    "def log_smoothed_prob(pre,next):\n",
    "    prob = math.log10((bi_freq[(pre,next)]+1))-math.log10((un_freq[pre]+V))\n",
    "    return prob"
   ]
  },
  {
   "cell_type": "code",
   "execution_count": 40,
   "metadata": {},
   "outputs": [],
   "source": [
    "\n",
    "def sentence_prob(sentence):\n",
    "    log_prob = 0\n",
    "    for p,word in enumerate(sentence):\n",
    "        if p == 0:\n",
    "            log_prob = math.log10(un_freq[word]+1) - math.log10(N+V)\n",
    "        else:\n",
    "            log_prob = log_prob + log_smoothed_prob(sentence[p-1],word)\n",
    "    return log_prob"
   ]
  },
  {
   "cell_type": "code",
   "execution_count": 41,
   "metadata": {},
   "outputs": [
    {
     "data": {
      "text/plain": [
       "-8.72688813250023"
      ]
     },
     "execution_count": 41,
     "metadata": {},
     "output_type": "execute_result"
    }
   ],
   "source": [
    "sentence_prob(word_tokenize(\"a quick brown fox\"))"
   ]
  },
  {
   "cell_type": "code",
   "execution_count": 42,
   "metadata": {},
   "outputs": [
    {
     "data": {
      "text/plain": [
       "-8.72683593678093"
      ]
     },
     "execution_count": 42,
     "metadata": {},
     "output_type": "execute_result"
    }
   ],
   "source": [
    "sentence_prob(word_tokenize(\"a quick brow fox\"))"
   ]
  },
  {
   "cell_type": "code",
   "execution_count": 35,
   "metadata": {},
   "outputs": [
    {
     "data": {
      "text/plain": [
       "-14.972965308852515"
      ]
     },
     "execution_count": 35,
     "metadata": {},
     "output_type": "execute_result"
    }
   ],
   "source": [
    "sentence_prob(word_tokenize(\"a quick bro fox\"))"
   ]
  },
  {
   "cell_type": "code",
   "execution_count": 38,
   "metadata": {},
   "outputs": [
    {
     "data": {
      "text/plain": [
       "-6.246129372071583"
      ]
     },
     "execution_count": 38,
     "metadata": {},
     "output_type": "execute_result"
    }
   ],
   "source": [
    "sentence_prob(word_tokenize(\"asfox\"))"
   ]
  },
  {
   "cell_type": "code",
   "execution_count": 39,
   "metadata": {},
   "outputs": [
    {
     "data": {
      "text/plain": [
       "-6.246129372071583"
      ]
     },
     "execution_count": 39,
     "metadata": {},
     "output_type": "execute_result"
    }
   ],
   "source": [
    "sentence_prob(word_tokenize(\"sdadfx\"))"
   ]
  },
  {
   "cell_type": "code",
   "execution_count": 43,
   "metadata": {},
   "outputs": [
    {
     "data": {
      "text/plain": [
       "13"
      ]
     },
     "execution_count": 43,
     "metadata": {},
     "output_type": "execute_result"
    }
   ],
   "source": [
    "un_freq[\"word\"]"
   ]
  },
  {
   "cell_type": "code",
   "execution_count": 44,
   "metadata": {},
   "outputs": [
    {
     "data": {
      "text/plain": [
       "14"
      ]
     },
     "execution_count": 44,
     "metadata": {},
     "output_type": "execute_result"
    }
   ],
   "source": [
    "un_freq[\"words\"]"
   ]
  },
  {
   "cell_type": "code",
   "execution_count": 47,
   "metadata": {},
   "outputs": [
    {
     "data": {
      "text/plain": [
       "8"
      ]
     },
     "execution_count": 47,
     "metadata": {},
     "output_type": "execute_result"
    }
   ],
   "source": [
    "bi_freq[('a','quick')]"
   ]
  },
  {
   "cell_type": "code",
   "execution_count": 48,
   "metadata": {},
   "outputs": [
    {
     "data": {
      "text/plain": [
       "23492"
      ]
     },
     "execution_count": 48,
     "metadata": {},
     "output_type": "execute_result"
    }
   ],
   "source": [
    "un_freq['a']"
   ]
  },
  {
   "cell_type": "code",
   "execution_count": 49,
   "metadata": {},
   "outputs": [
    {
     "data": {
      "text/plain": [
       "0"
      ]
     },
     "execution_count": 49,
     "metadata": {},
     "output_type": "execute_result"
    }
   ],
   "source": [
    "bi_freq[('brown','fox')]"
   ]
  },
  {
   "cell_type": "code",
   "execution_count": 50,
   "metadata": {},
   "outputs": [
    {
     "data": {
      "text/plain": [
       "0"
      ]
     },
     "execution_count": 50,
     "metadata": {},
     "output_type": "execute_result"
    }
   ],
   "source": [
    "bi_freq[('a','quack')]"
   ]
  },
  {
   "cell_type": "code",
   "execution_count": null,
   "metadata": {},
   "outputs": [],
   "source": []
  }
 ],
 "metadata": {
  "kernelspec": {
   "display_name": "Python 3",
   "language": "python",
   "name": "python3"
  },
  "language_info": {
   "codemirror_mode": {
    "name": "ipython",
    "version": 3
   },
   "file_extension": ".py",
   "mimetype": "text/x-python",
   "name": "python",
   "nbconvert_exporter": "python",
   "pygments_lexer": "ipython3",
   "version": "3.7.1"
  }
 },
 "nbformat": 4,
 "nbformat_minor": 2
}
