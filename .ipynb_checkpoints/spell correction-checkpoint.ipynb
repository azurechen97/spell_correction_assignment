{
 "cells": [
  {
   "cell_type": "code",
   "execution_count": 1,
   "metadata": {},
   "outputs": [],
   "source": [
    "import numpy as np\n",
    "import pandas as pd\n",
    "from pandas import Series, DataFrame\n",
    "import math\n",
    "import nltk\n",
    "from nltk import word_tokenize\n",
    "from nltk.corpus import reuters\n",
    "import pickle"
   ]
  },
  {
   "cell_type": "code",
   "execution_count": 2,
   "metadata": {},
   "outputs": [],
   "source": [
    "with open('vocab.txt') as vocab_file:\n",
    "    lines = vocab_file.readlines()\n",
    "vocab = [line.strip() for line in lines]\n",
    "\n",
    "testdata = pd.read_table('testdata.txt', header=None)\n",
    "n = testdata.shape[0]\n",
    "\n",
    "with open('dataFile','rb') as fr:\n",
    "    un_freq = pickle.load(fr)\n",
    "    bi_freq = pickle.load(fr)"
   ]
  },
  {
   "cell_type": "code",
   "execution_count": 3,
   "metadata": {},
   "outputs": [],
   "source": [
    "V = len(un_freq)\n",
    "\n",
    "letters = \"abcdefghijklmnopqrstuvwxyz\"\n",
    "letters_upper = \"ABCDEFGHIJKLMNOPQRSTUVWXYZ\"\n",
    "other = \" -'\""
   ]
  },
  {
   "cell_type": "code",
   "execution_count": 11,
   "metadata": {},
   "outputs": [],
   "source": [
    "def distance_1(word):\n",
    "    total = set()\n",
    "    for i in range(0,len(word)):\n",
    "        l = word[:i]\n",
    "        r = word[i:]\n",
    "        alphabet = letters\n",
    "        if len(word) > 1 and i > 0:\n",
    "            total.update(set([l[:i-1]+r[0]+l[i-1]+r[1:]])) #Transposition\n",
    "            if i < len(word):\n",
    "                alphabet = letters+other # Punctuation cases\n",
    "        total.update(set([l+c+r for c in alphabet]+[l+r+c for c in alphabet])) #Insertion\n",
    "        total.update(set([l+r[1:]])) #Deletion\n",
    "        total.update(set([l+c+r[1:] for c in alphabet])) #Substitution\n",
    "    return total"
   ]
  },
  {
   "cell_type": "code",
   "execution_count": 16,
   "metadata": {},
   "outputs": [],
   "source": [
    "def generate_candidates(sentence):\n",
    "    candidates = list()\n",
    "    for p,word in enumerate(sentence):\n",
    "        for replace in distance_1(word):\n",
    "            if replace in vocab:\n",
    "                candidate = sentence[:p]+[replace]+sentence[p+1:]\n",
    "                if candidate not in candidates:\n",
    "                    candidates.append(candidate)\n",
    "    return candidates"
   ]
  },
  {
   "cell_type": "code",
   "execution_count": 17,
   "metadata": {},
   "outputs": [
    {
     "data": {
      "text/plain": [
       "[['ax', 'quick', 'brown', 'fox'],\n",
       " ['ah', 'quick', 'brown', 'fox'],\n",
       " ['h', 'quick', 'brown', 'fox'],\n",
       " ['k', 'quick', 'brown', 'fox'],\n",
       " ['al', 'quick', 'brown', 'fox'],\n",
       " ['am', 'quick', 'brown', 'fox'],\n",
       " ['ha', 'quick', 'brown', 'fox'],\n",
       " ['as', 'quick', 'brown', 'fox'],\n",
       " ['a', 'quick', 'brown', 'fox'],\n",
       " ['u', 'quick', 'brown', 'fox'],\n",
       " ['x', 'quick', 'brown', 'fox'],\n",
       " ['at', 'quick', 'brown', 'fox'],\n",
       " ['f', 'quick', 'brown', 'fox'],\n",
       " ['na', 'quick', 'brown', 'fox'],\n",
       " ['l', 'quick', 'brown', 'fox'],\n",
       " ['r', 'quick', 'brown', 'fox'],\n",
       " ['b', 'quick', 'brown', 'fox'],\n",
       " ['g', 'quick', 'brown', 'fox'],\n",
       " ['ca', 'quick', 'brown', 'fox'],\n",
       " ['ab', 'quick', 'brown', 'fox'],\n",
       " ['ad', 'quick', 'brown', 'fox'],\n",
       " ['p', 'quick', 'brown', 'fox'],\n",
       " ['pa', 'quick', 'brown', 'fox'],\n",
       " ['e', 'quick', 'brown', 'fox'],\n",
       " ['n', 'quick', 'brown', 'fox'],\n",
       " ['w', 'quick', 'brown', 'fox'],\n",
       " ['ya', 'quick', 'brown', 'fox'],\n",
       " ['la', 'quick', 'brown', 'fox'],\n",
       " ['ta', 'quick', 'brown', 'fox'],\n",
       " ['an', 'quick', 'brown', 'fox'],\n",
       " ['a', 'quirk', 'brown', 'fox'],\n",
       " ['a', 'quack', 'brown', 'fox'],\n",
       " ['a', 'quick', 'brows', 'fox'],\n",
       " ['a', 'quick', 'frown', 'fox'],\n",
       " ['a', 'quick', 'crown', 'fox'],\n",
       " ['a', 'quick', 'drown', 'fox'],\n",
       " ['a', 'quick', 'brow', 'fox'],\n",
       " ['a', 'quick', 'browny', 'fox'],\n",
       " ['a', 'quick', 'blown', 'fox'],\n",
       " ['a', 'quick', 'grown', 'fox'],\n",
       " ['a', 'quick', 'brown', 'ox'],\n",
       " ['a', 'quick', 'brown', 'fog'],\n",
       " ['a', 'quick', 'brown', 'box'],\n",
       " ['a', 'quick', 'brown', 'for'],\n",
       " ['a', 'quick', 'brown', 'foe'],\n",
       " ['a', 'quick', 'brown', 'foh'],\n",
       " ['a', 'quick', 'brown', 'fix']]"
      ]
     },
     "execution_count": 17,
     "metadata": {},
     "output_type": "execute_result"
    }
   ],
   "source": [
    "generate_candidates(word_tokenize(\"a quick brown fox\"))"
   ]
  },
  {
   "cell_type": "code",
   "execution_count": 19,
   "metadata": {},
   "outputs": [],
   "source": [
    "N = len(reuters.words())"
   ]
  },
  {
   "cell_type": "code",
   "execution_count": 20,
   "metadata": {},
   "outputs": [
    {
     "data": {
      "text/plain": [
       "1720901"
      ]
     },
     "execution_count": 20,
     "metadata": {},
     "output_type": "execute_result"
    }
   ],
   "source": [
    "N"
   ]
  },
  {
   "cell_type": "code",
   "execution_count": 21,
   "metadata": {},
   "outputs": [],
   "source": [
    "reuters_list = reuters.words()"
   ]
  },
  {
   "cell_type": "code",
   "execution_count": 22,
   "metadata": {},
   "outputs": [],
   "source": [
    "N= len(reuters_list)"
   ]
  },
  {
   "cell_type": "code",
   "execution_count": 23,
   "metadata": {},
   "outputs": [],
   "source": [
    "with open('dataFile','rb') as fr:\n",
    "    un_freq = pickle.load(fr)\n",
    "    bi_freq = pickle.load(fr)\n",
    "    V = pickle.load(fr)\n",
    "    N = pickle.load(fr)"
   ]
  },
  {
   "cell_type": "code",
   "execution_count": 24,
   "metadata": {},
   "outputs": [
    {
     "data": {
      "text/plain": [
       "1720901"
      ]
     },
     "execution_count": 24,
     "metadata": {},
     "output_type": "execute_result"
    }
   ],
   "source": [
    "N"
   ]
  },
  {
   "cell_type": "code",
   "execution_count": 25,
   "metadata": {},
   "outputs": [
    {
     "data": {
      "text/plain": [
       "41600"
      ]
     },
     "execution_count": 25,
     "metadata": {},
     "output_type": "execute_result"
    }
   ],
   "source": [
    "V"
   ]
  },
  {
   "cell_type": "code",
   "execution_count": 26,
   "metadata": {},
   "outputs": [],
   "source": [
    "def log_smoothed_prob(pre,next):\n",
    "    prob = math.log10((bi_freq[(pre,next)]+1))-math.log10((un_freq[pre]+V))\n",
    "    return prob"
   ]
  },
  {
   "cell_type": "code",
   "execution_count": 27,
   "metadata": {},
   "outputs": [],
   "source": [
    "\n",
    "def sentence_prob(sentence):\n",
    "    log_prob = 0\n",
    "    for p,word in enumerate(sentence):\n",
    "        if p == 0:\n",
    "            log_prob = math.log10(un_freq[word]+1) - math.log10(N+V)\n",
    "        else:\n",
    "            log_prob = log_prob + log_smoothed_prob(sentence[p-1],word)\n",
    "    return log_prob"
   ]
  },
  {
   "cell_type": "code",
   "execution_count": 28,
   "metadata": {},
   "outputs": [
    {
     "data": {
      "text/plain": [
       "-8.727003614566952"
      ]
     },
     "execution_count": 28,
     "metadata": {},
     "output_type": "execute_result"
    }
   ],
   "source": [
    "sentence_prob(word_tokenize(\"a quick brown fox\"))"
   ]
  },
  {
   "cell_type": "code",
   "execution_count": 29,
   "metadata": {},
   "outputs": [
    {
     "data": {
      "text/plain": [
       "-8.726951418847651"
      ]
     },
     "execution_count": 29,
     "metadata": {},
     "output_type": "execute_result"
    }
   ],
   "source": [
    "sentence_prob(word_tokenize(\"a quick brow fox\"))"
   ]
  },
  {
   "cell_type": "code",
   "execution_count": 30,
   "metadata": {},
   "outputs": [
    {
     "data": {
      "text/plain": [
       "-8.726951418847651"
      ]
     },
     "execution_count": 30,
     "metadata": {},
     "output_type": "execute_result"
    }
   ],
   "source": [
    "sentence_prob(word_tokenize(\"a quick bro fox\"))"
   ]
  },
  {
   "cell_type": "code",
   "execution_count": 31,
   "metadata": {},
   "outputs": [
    {
     "ename": "ValueError",
     "evalue": "math domain error",
     "output_type": "error",
     "traceback": [
      "\u001b[0;31m---------------------------------------------------------------------------\u001b[0m",
      "\u001b[0;31mValueError\u001b[0m                                Traceback (most recent call last)",
      "\u001b[0;32m<ipython-input-31-934c75f50ebb>\u001b[0m in \u001b[0;36m<module>\u001b[0;34m\u001b[0m\n\u001b[0;32m----> 1\u001b[0;31m \u001b[0msentence_prob\u001b[0m\u001b[0;34m(\u001b[0m\u001b[0mword_tokenize\u001b[0m\u001b[0;34m(\u001b[0m\u001b[0;34m\"asfox\"\u001b[0m\u001b[0;34m)\u001b[0m\u001b[0;34m)\u001b[0m\u001b[0;34m\u001b[0m\u001b[0;34m\u001b[0m\u001b[0m\n\u001b[0m",
      "\u001b[0;32m<ipython-input-27-d2af254da01f>\u001b[0m in \u001b[0;36msentence_prob\u001b[0;34m(sentence)\u001b[0m\n\u001b[1;32m      4\u001b[0m     \u001b[0;32mfor\u001b[0m \u001b[0mp\u001b[0m\u001b[0;34m,\u001b[0m\u001b[0mword\u001b[0m \u001b[0;32min\u001b[0m \u001b[0menumerate\u001b[0m\u001b[0;34m(\u001b[0m\u001b[0msentence\u001b[0m\u001b[0;34m)\u001b[0m\u001b[0;34m:\u001b[0m\u001b[0;34m\u001b[0m\u001b[0;34m\u001b[0m\u001b[0m\n\u001b[1;32m      5\u001b[0m         \u001b[0;32mif\u001b[0m \u001b[0mp\u001b[0m \u001b[0;34m==\u001b[0m \u001b[0;36m0\u001b[0m\u001b[0;34m:\u001b[0m\u001b[0;34m\u001b[0m\u001b[0;34m\u001b[0m\u001b[0m\n\u001b[0;32m----> 6\u001b[0;31m             \u001b[0mlog_prob\u001b[0m \u001b[0;34m=\u001b[0m \u001b[0mmath\u001b[0m\u001b[0;34m.\u001b[0m\u001b[0mlog10\u001b[0m\u001b[0;34m(\u001b[0m\u001b[0;34m(\u001b[0m\u001b[0mun_freq\u001b[0m\u001b[0;34m[\u001b[0m\u001b[0mword\u001b[0m\u001b[0;34m]\u001b[0m\u001b[0;34m+\u001b[0m\u001b[0;36m1\u001b[0m\u001b[0;34m)\u001b[0m \u001b[0;34m-\u001b[0m \u001b[0mmath\u001b[0m\u001b[0;34m.\u001b[0m\u001b[0mlog10\u001b[0m\u001b[0;34m(\u001b[0m\u001b[0mN\u001b[0m\u001b[0;34m+\u001b[0m\u001b[0mV\u001b[0m\u001b[0;34m)\u001b[0m\u001b[0;34m)\u001b[0m\u001b[0;34m\u001b[0m\u001b[0;34m\u001b[0m\u001b[0m\n\u001b[0m\u001b[1;32m      7\u001b[0m         \u001b[0;32melse\u001b[0m\u001b[0;34m:\u001b[0m\u001b[0;34m\u001b[0m\u001b[0;34m\u001b[0m\u001b[0m\n\u001b[1;32m      8\u001b[0m             \u001b[0mlog_prob\u001b[0m \u001b[0;34m=\u001b[0m \u001b[0mlog_prob\u001b[0m \u001b[0;34m+\u001b[0m \u001b[0mlog_smoothed_prob\u001b[0m\u001b[0;34m(\u001b[0m\u001b[0msentence\u001b[0m\u001b[0;34m[\u001b[0m\u001b[0mp\u001b[0m\u001b[0;34m-\u001b[0m\u001b[0;36m1\u001b[0m\u001b[0;34m]\u001b[0m\u001b[0;34m,\u001b[0m\u001b[0mword\u001b[0m\u001b[0;34m)\u001b[0m\u001b[0;34m\u001b[0m\u001b[0;34m\u001b[0m\u001b[0m\n",
      "\u001b[0;31mValueError\u001b[0m: math domain error"
     ]
    }
   ],
   "source": [
    "sentence_prob(word_tokenize(\"asfox\"))"
   ]
  },
  {
   "cell_type": "code",
   "execution_count": null,
   "metadata": {},
   "outputs": [],
   "source": []
  }
 ],
 "metadata": {
  "kernelspec": {
   "display_name": "Python 3",
   "language": "python",
   "name": "python3"
  },
  "language_info": {
   "codemirror_mode": {
    "name": "ipython",
    "version": 3
   },
   "file_extension": ".py",
   "mimetype": "text/x-python",
   "name": "python",
   "nbconvert_exporter": "python",
   "pygments_lexer": "ipython3",
   "version": "3.7.1"
  }
 },
 "nbformat": 4,
 "nbformat_minor": 2
}
